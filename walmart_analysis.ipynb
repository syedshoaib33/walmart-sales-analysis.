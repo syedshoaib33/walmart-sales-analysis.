{
 "cells": [
  {
   "cell_type": "code",
   "execution_count": 2,
   "id": "91cd0016",
   "metadata": {},
   "outputs": [],
   "source": [
    "import pandas as pd\n",
    "import numpy as np\n",
    "import matplotlib.pyplot as plt"
   ]
  },
  {
   "cell_type": "code",
   "execution_count": 1,
   "id": "1953c5c7",
   "metadata": {},
   "outputs": [],
   "source": [
    "import zipfile\n",
    "\n",
    "with zipfile.ZipFile(\"train.csv.zip\", 'r') as zip_ref:\n",
    "    zip_ref.extractall()\n",
    "\n",
    "with zipfile.ZipFile(\"features.csv.zip\", 'r') as zip_ref:\n",
    "    zip_ref.extractall()\n",
    "\n",
    "with zipfile.ZipFile(\"test.csv.zip\", 'r') as zip_ref:\n",
    "    zip_ref.extractall()\n"
   ]
  },
  {
   "cell_type": "code",
   "execution_count": 3,
   "id": "346c57d4",
   "metadata": {},
   "outputs": [],
   "source": [
    "train = pd.read_csv(\"train.csv\", parse_dates=[\"Date\"])\n",
    "features = pd.read_csv(\"features.csv\", parse_dates=[\"Date\"])\n",
    "test = pd.read_csv(\"test.csv\", parse_dates=[\"Date\"])\n"
   ]
  },
  {
   "cell_type": "code",
   "execution_count": 4,
   "id": "a71e92da",
   "metadata": {},
   "outputs": [],
   "source": [
    "train.set_index(\"Date\", inplace=True)\n",
    "features.set_index(\"Date\", inplace=True)\n",
    "test.set_index(\"Date\", inplace=True)"
   ]
  },
  {
   "cell_type": "code",
   "execution_count": 5,
   "id": "ef89483f",
   "metadata": {},
   "outputs": [
    {
     "name": "stdout",
     "output_type": "stream",
     "text": [
      "Train missing values:\n",
      " Store           0\n",
      "Dept            0\n",
      "Weekly_Sales    0\n",
      "IsHoliday       0\n",
      "dtype: int64\n",
      "\n",
      "Features missing values:\n",
      " Store              0\n",
      "Temperature        0\n",
      "Fuel_Price         0\n",
      "MarkDown1       4158\n",
      "MarkDown2       5269\n",
      "MarkDown3       4577\n",
      "MarkDown4       4726\n",
      "MarkDown5       4140\n",
      "CPI              585\n",
      "Unemployment     585\n",
      "IsHoliday          0\n",
      "dtype: int64\n",
      "\n",
      "Test missing values:\n",
      " Store        0\n",
      "Dept         0\n",
      "IsHoliday    0\n",
      "dtype: int64\n"
     ]
    }
   ],
   "source": [
    "print(\"Train missing values:\\n\", train.isna().sum())\n",
    "print(\"\\nFeatures missing values:\\n\", features.isna().sum())\n",
    "print(\"\\nTest missing values:\\n\", test.isna().sum())\n"
   ]
  },
  {
   "cell_type": "code",
   "execution_count": 6,
   "id": "e62a4a73",
   "metadata": {},
   "outputs": [
    {
     "name": "stdout",
     "output_type": "stream",
     "text": [
      "Train missing values:\n",
      " Store           0\n",
      "Dept            0\n",
      "Weekly_Sales    0\n",
      "IsHoliday       0\n",
      "dtype: int64\n",
      "\n",
      "Features missing values:\n",
      " Store              0\n",
      "Temperature        0\n",
      "Fuel_Price         0\n",
      "MarkDown1       4158\n",
      "MarkDown2       5269\n",
      "MarkDown3       4577\n",
      "MarkDown4       4726\n",
      "MarkDown5       4140\n",
      "CPI              585\n",
      "Unemployment     585\n",
      "IsHoliday          0\n",
      "dtype: int64\n",
      "\n",
      "Test missing values:\n",
      " Store        0\n",
      "Dept         0\n",
      "IsHoliday    0\n",
      "dtype: int64\n"
     ]
    }
   ],
   "source": [
    "print(\"Train missing values:\\n\", train.isna().sum())\n",
    "print(\"\\nFeatures missing values:\\n\", features.isna().sum())\n",
    "print(\"\\nTest missing values:\\n\", test.isna().sum())\n"
   ]
  },
  {
   "cell_type": "code",
   "execution_count": 7,
   "id": "2bb11277",
   "metadata": {},
   "outputs": [],
   "source": [
    "train_multi = train.copy()\n",
    "features_multi = features.copy()\n",
    "\n",
    "train_multi.set_index(\"Store\", append=True, inplace=True)\n",
    "features_multi.set_index(\"Store\", append=True, inplace=True)\n",
    "\n",
    "merged_df = train_multi.merge(features_multi, left_index=True, right_index=True)\n"
   ]
  },
  {
   "cell_type": "code",
   "execution_count": 8,
   "id": "aefb3d07",
   "metadata": {},
   "outputs": [
    {
     "name": "stdout",
     "output_type": "stream",
     "text": [
      "Missing values in TRAIN:\n",
      " Store           0\n",
      "Dept            0\n",
      "Weekly_Sales    0\n",
      "IsHoliday       0\n",
      "dtype: int64 \n",
      "\n",
      "Missing values in FEATURES:\n",
      " Store              0\n",
      "Temperature        0\n",
      "Fuel_Price         0\n",
      "MarkDown1       4158\n",
      "MarkDown2       5269\n",
      "MarkDown3       4577\n",
      "MarkDown4       4726\n",
      "MarkDown5       4140\n",
      "CPI              585\n",
      "Unemployment     585\n",
      "IsHoliday          0\n",
      "dtype: int64 \n",
      "\n",
      "Missing values in TEST:\n",
      " Store        0\n",
      "Dept         0\n",
      "IsHoliday    0\n",
      "dtype: int64 \n",
      "\n",
      "Merged Data Sample:\n",
      "                   Dept  Weekly_Sales  IsHoliday_x  Temperature  Fuel_Price  \\\n",
      "Date       Store                                                             \n",
      "2010-02-05 1         1      24924.50        False        42.31       2.572   \n",
      "2010-02-12 1         1      46039.49         True        38.51       2.548   \n",
      "2010-02-19 1         1      41595.55        False        39.93       2.514   \n",
      "2010-02-26 1         1      19403.54        False        46.63       2.561   \n",
      "2010-03-05 1         1      21827.90        False        46.50       2.625   \n",
      "\n",
      "                  MarkDown1  MarkDown2  MarkDown3  MarkDown4  MarkDown5  \\\n",
      "Date       Store                                                          \n",
      "2010-02-05 1            NaN        NaN        NaN        NaN        NaN   \n",
      "2010-02-12 1            NaN        NaN        NaN        NaN        NaN   \n",
      "2010-02-19 1            NaN        NaN        NaN        NaN        NaN   \n",
      "2010-02-26 1            NaN        NaN        NaN        NaN        NaN   \n",
      "2010-03-05 1            NaN        NaN        NaN        NaN        NaN   \n",
      "\n",
      "                         CPI  Unemployment  IsHoliday_y  \n",
      "Date       Store                                         \n",
      "2010-02-05 1      211.096358         8.106        False  \n",
      "2010-02-12 1      211.242170         8.106         True  \n",
      "2010-02-19 1      211.289143         8.106        False  \n",
      "2010-02-26 1      211.319643         8.106        False  \n",
      "2010-03-05 1      211.350143         8.106        False   \n",
      "\n",
      "Sample Weekly Sales after filling:\n",
      "    Store  Dept  Weekly_Sales\n",
      "0      1     1      24924.50\n",
      "1      1     1      46039.49\n",
      "2      1     1      41595.55\n",
      "3      1     1      19403.54\n",
      "4      1     1      21827.90\n"
     ]
    }
   ],
   "source": [
    "import pandas as pd\n",
    "import numpy as np\n",
    "\n",
    "# 1. Load the CSV files and parse the \"Date\" column\n",
    "train = pd.read_csv(\"train.csv\", parse_dates=[\"Date\"])\n",
    "features = pd.read_csv(\"features.csv\", parse_dates=[\"Date\"])\n",
    "test = pd.read_csv(\"test.csv\", parse_dates=[\"Date\"])\n",
    "\n",
    "# 2. Set the \"Date\" column as index\n",
    "train.set_index(\"Date\", inplace=True)\n",
    "features.set_index(\"Date\", inplace=True)\n",
    "test.set_index(\"Date\", inplace=True)\n",
    "\n",
    "# 3. Count missing values in each file\n",
    "print(\"Missing values in TRAIN:\\n\", train.isna().sum(), \"\\n\")\n",
    "print(\"Missing values in FEATURES:\\n\", features.isna().sum(), \"\\n\")\n",
    "print(\"Missing values in TEST:\\n\", test.isna().sum(), \"\\n\")\n",
    "\n",
    "# 4. Set multi-index (Date + Store) and merge train + features\n",
    "train_multi = train.copy()\n",
    "features_multi = features.copy()\n",
    "\n",
    "train_multi.set_index(\"Store\", append=True, inplace=True)\n",
    "features_multi.set_index(\"Store\", append=True, inplace=True)\n",
    "\n",
    "merged_df = train_multi.merge(features_multi, left_index=True, right_index=True)\n",
    "print(\"Merged Data Sample:\\n\", merged_df.head(), \"\\n\")\n",
    "\n",
    "# 5. Fill missing Weekly_Sales using group average (Store + Dept)\n",
    "train.reset_index(inplace=True)  # reset index to use groupby\n",
    "train[\"Weekly_Sales\"] = train.groupby([\"Store\", \"Dept\"])[\"Weekly_Sales\"].transform(\n",
    "    lambda x: x.fillna(x.mean())\n",
    ")\n",
    "print(\"Sample Weekly Sales after filling:\\n\", train[[\"Store\", \"Dept\", \"Weekly_Sales\"]].head())\n"
   ]
  },
  {
   "cell_type": "code",
   "execution_count": null,
   "id": "842c305a",
   "metadata": {},
   "outputs": [],
   "source": []
  }
 ],
 "metadata": {
  "kernelspec": {
   "display_name": "Python 3",
   "language": "python",
   "name": "python3"
  },
  "language_info": {
   "codemirror_mode": {
    "name": "ipython",
    "version": 3
   },
   "file_extension": ".py",
   "mimetype": "text/x-python",
   "name": "python",
   "nbconvert_exporter": "python",
   "pygments_lexer": "ipython3",
   "version": "3.11.5"
  }
 },
 "nbformat": 4,
 "nbformat_minor": 5
}
